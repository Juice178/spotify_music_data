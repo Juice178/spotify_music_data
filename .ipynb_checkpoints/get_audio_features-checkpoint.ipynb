{
 "cells": [
  {
   "cell_type": "code",
   "execution_count": 39,
   "metadata": {},
   "outputs": [],
   "source": [
    "import spotipy\n",
    "from spotipy.oauth2 import SpotifyClientCredentials\n",
    "import sys\n",
    "import numpy as np\n",
    "import pandas as pd\n",
    "import matplotlib.pyplot as plt\n",
    "%matplotlib inline\n",
    "import json\n",
    "\n",
    "import getpass"
   ]
  },
  {
   "cell_type": "code",
   "execution_count": 42,
   "metadata": {},
   "outputs": [
    {
     "name": "stdout",
     "output_type": "stream",
     "text": [
      "Please Enter your Client ID········\n",
      "Please Enter your Client Secret········\n",
      "dict_keys(['album', 'artists', 'disc_number', 'duration_ms', 'explicit', 'external_ids', 'external_urls', 'href', 'id', 'is_local', 'is_playable', 'name', 'popularity', 'preview_url', 'track_number', 'type', 'uri'])\n",
      "popularity is : 96\n",
      "song id is:  2Fxmhks0bxGSBdJ92vM42m\n",
      "song name is:  bad guy\n",
      "artist is:  Billie Eilish\n"
     ]
    }
   ],
   "source": [
    "import spotipy\n",
    "from spotipy.oauth2 import SpotifyClientCredentials\n",
    "import sys\n",
    "\n",
    "#lz_uri = 'spotify:playlist:37i9dQZF1DX6cg4h2PoN9y'\n",
    "lz_uri = 'spotify:artist:6qqNVTkY8uBg9cP3Jd7DAH'\n",
    "\n",
    "\n",
    "client_id = getpass.getpass('Please Enter your Client ID')\n",
    "client_secret = getpass.getpass('Please Enter your Client Secret')\n",
    "\n",
    "\n",
    "\n",
    "client_credentials_manager = spotipy.oauth2.SpotifyClientCredentials(client_id, client_secret)\n",
    "\n",
    "\n",
    "sp = spotipy.Spotify(client_credentials_manager=client_credentials_manager)\n",
    "\n",
    "results = sp.artist_top_tracks(lz_uri)\n",
    "\n",
    "print(results['tracks'][0].keys())\n",
    "\n",
    "\n",
    "print(\"popularity is :\", results['tracks'][0]['popularity'])\n",
    "print(\"song id is: \",  results['tracks'][0]['id'])\n",
    "print(\"song name is: \", results['tracks'][0]['name'])\n",
    "print(\"artist is: \", results['tracks'][1]['artists'][0]['name'])\n",
    "\n",
    "\n",
    "\n",
    "# for track in results['tracks'][:10]:\n",
    "#     print('track    : ' + track['name'])\n",
    "#     print('audio    : ' + track['preview_url'])\n",
    "#     print('cover art: ' + track['album']['images'][0]['url'])\n",
    "#     print()"
   ]
  },
  {
   "cell_type": "code",
   "execution_count": 4,
   "metadata": {
    "scrolled": true
   },
   "outputs": [
    {
     "data": {
      "text/plain": [
       "[{'danceability': 0.701,\n",
       "  'energy': 0.425,\n",
       "  'key': 7,\n",
       "  'loudness': -10.965,\n",
       "  'mode': 1,\n",
       "  'speechiness': 0.375,\n",
       "  'acousticness': 0.328,\n",
       "  'instrumentalness': 0.13,\n",
       "  'liveness': 0.1,\n",
       "  'valence': 0.562,\n",
       "  'tempo': 135.128,\n",
       "  'type': 'audio_features',\n",
       "  'id': '2Fxmhks0bxGSBdJ92vM42m',\n",
       "  'uri': 'spotify:track:2Fxmhks0bxGSBdJ92vM42m',\n",
       "  'track_href': 'https://api.spotify.com/v1/tracks/2Fxmhks0bxGSBdJ92vM42m',\n",
       "  'analysis_url': 'https://api.spotify.com/v1/audio-analysis/2Fxmhks0bxGSBdJ92vM42m',\n",
       "  'duration_ms': 194088,\n",
       "  'time_signature': 4}]"
      ]
     },
     "execution_count": 4,
     "metadata": {},
     "output_type": "execute_result"
    }
   ],
   "source": [
    "sp.audio_features('2Fxmhks0bxGSBdJ92vM42m')"
   ]
  },
  {
   "cell_type": "code",
   "execution_count": 5,
   "metadata": {},
   "outputs": [
    {
     "name": "stdout",
     "output_type": "stream",
     "text": [
      "{'danceability': 0.701, 'energy': 0.425, 'key': 7, 'loudness': -10.965, 'mode': 1, 'speechiness': 0.375, 'acousticness': 0.328, 'instrumentalness': 0.13, 'liveness': 0.1, 'valence': 0.562, 'tempo': 135.128, 'type': 'audio_features', 'id': '2Fxmhks0bxGSBdJ92vM42m', 'uri': 'spotify:track:2Fxmhks0bxGSBdJ92vM42m', 'track_href': 'https://api.spotify.com/v1/tracks/2Fxmhks0bxGSBdJ92vM42m', 'analysis_url': 'https://api.spotify.com/v1/audio-analysis/2Fxmhks0bxGSBdJ92vM42m', 'duration_ms': 194088, 'time_signature': 4}\n"
     ]
    }
   ],
   "source": [
    "features = sp.audio_features('2Fxmhks0bxGSBdJ92vM42m')[0]\n",
    "print(features)"
   ]
  },
  {
   "cell_type": "code",
   "execution_count": 6,
   "metadata": {},
   "outputs": [
    {
     "name": "stdout",
     "output_type": "stream",
     "text": [
      "<class 'dict_values'>\n"
     ]
    }
   ],
   "source": [
    "print(type(features.values()))"
   ]
  },
  {
   "cell_type": "code",
   "execution_count": 7,
   "metadata": {},
   "outputs": [],
   "source": [
    "feature_names = ['danceability', 'energy', 'key', 'loudness', 'mode', 'speechiness', \n",
    "               'acousticness','instrumentalness', 'liveness',  'valence', 'tempo']"
   ]
  },
  {
   "cell_type": "code",
   "execution_count": 8,
   "metadata": {},
   "outputs": [
    {
     "name": "stdout",
     "output_type": "stream",
     "text": [
      "['danceability', 'energy', 'key', 'loudness', 'mode', 'speechiness', 'acousticness', 'instrumentalness', 'liveness', 'valence', 'tempo']\n"
     ]
    }
   ],
   "source": [
    "print(feature_names)"
   ]
  },
  {
   "cell_type": "code",
   "execution_count": 9,
   "metadata": {},
   "outputs": [
    {
     "data": {
      "text/plain": [
       "[0.701, 0.425, 7, -10.965, 1, 0.375, 0.328, 0.13, 0.1, 0.562, 135.128]"
      ]
     },
     "execution_count": 9,
     "metadata": {},
     "output_type": "execute_result"
    }
   ],
   "source": [
    "[val for key, val in features.items() if key in feature_names]"
   ]
  },
  {
   "cell_type": "code",
   "execution_count": 10,
   "metadata": {},
   "outputs": [],
   "source": [
    "def create_a_dataframe(results):\n",
    "    columns = ['artist_name', 'song_name', 'popularity', 'danceability', 'energy', 'key', 'loudness', 'mode', 'speechiness', \n",
    "               'acousticness','instrumentalness', 'liveness',  'valence', 'tempo', 'duration_ms']\n",
    "    rows = []\n",
    "    for track in results['tracks']:\n",
    "        row = []\n",
    "        \n",
    "        row.append(track['artists'][0]['name'])\n",
    "        row.append(track['name'])\n",
    "        row.append(track['popularity'])\n",
    "        song_id = track['id']\n",
    "        features = get_an_audio_features(song_id)\n",
    "        row.extend(features)\n",
    "        \n",
    "        rows.append(row)\n",
    "        \n",
    "    df = pd.DataFrame(rows, columns = columns)\n",
    "    \n",
    "    return df"
   ]
  },
  {
   "cell_type": "code",
   "execution_count": 11,
   "metadata": {},
   "outputs": [],
   "source": [
    "def get_an_audio_features(song_id): \n",
    "    feature_names = ['danceability', 'energy', 'key', 'loudness', 'mode', 'speechiness', \n",
    "               'acousticness','instrumentalness', 'liveness',  'valence', 'tempo', 'duration_ms']\n",
    "    feature_values  = sp.audio_features(song_id)[0]\n",
    "    \n",
    "    features = [val for key, val in feature_values.items() if key in feature_names]\n",
    "    \n",
    "    return features"
   ]
  },
  {
   "cell_type": "code",
   "execution_count": 12,
   "metadata": {
    "scrolled": true
   },
   "outputs": [],
   "source": [
    "df = create_a_dataframe(results)"
   ]
  },
  {
   "cell_type": "code",
   "execution_count": 13,
   "metadata": {},
   "outputs": [
    {
     "data": {
      "text/html": [
       "<div>\n",
       "<style scoped>\n",
       "    .dataframe tbody tr th:only-of-type {\n",
       "        vertical-align: middle;\n",
       "    }\n",
       "\n",
       "    .dataframe tbody tr th {\n",
       "        vertical-align: top;\n",
       "    }\n",
       "\n",
       "    .dataframe thead th {\n",
       "        text-align: right;\n",
       "    }\n",
       "</style>\n",
       "<table border=\"1\" class=\"dataframe\">\n",
       "  <thead>\n",
       "    <tr style=\"text-align: right;\">\n",
       "      <th></th>\n",
       "      <th>artist_name</th>\n",
       "      <th>song_name</th>\n",
       "      <th>popularity</th>\n",
       "      <th>danceability</th>\n",
       "      <th>energy</th>\n",
       "      <th>key</th>\n",
       "      <th>loudness</th>\n",
       "      <th>mode</th>\n",
       "      <th>speechiness</th>\n",
       "      <th>acousticness</th>\n",
       "      <th>instrumentalness</th>\n",
       "      <th>liveness</th>\n",
       "      <th>valence</th>\n",
       "      <th>tempo</th>\n",
       "      <th>duration_ms</th>\n",
       "    </tr>\n",
       "  </thead>\n",
       "  <tbody>\n",
       "    <tr>\n",
       "      <th>0</th>\n",
       "      <td>Billie Eilish</td>\n",
       "      <td>bad guy</td>\n",
       "      <td>96</td>\n",
       "      <td>0.701</td>\n",
       "      <td>0.425</td>\n",
       "      <td>7</td>\n",
       "      <td>-10.965</td>\n",
       "      <td>1</td>\n",
       "      <td>0.3750</td>\n",
       "      <td>0.328</td>\n",
       "      <td>0.13000</td>\n",
       "      <td>0.1000</td>\n",
       "      <td>0.562</td>\n",
       "      <td>135.128</td>\n",
       "      <td>194088</td>\n",
       "    </tr>\n",
       "    <tr>\n",
       "      <th>1</th>\n",
       "      <td>Billie Eilish</td>\n",
       "      <td>lovely (with Khalid)</td>\n",
       "      <td>90</td>\n",
       "      <td>0.351</td>\n",
       "      <td>0.296</td>\n",
       "      <td>4</td>\n",
       "      <td>-10.109</td>\n",
       "      <td>0</td>\n",
       "      <td>0.0333</td>\n",
       "      <td>0.934</td>\n",
       "      <td>0.00000</td>\n",
       "      <td>0.0950</td>\n",
       "      <td>0.120</td>\n",
       "      <td>115.284</td>\n",
       "      <td>200186</td>\n",
       "    </tr>\n",
       "    <tr>\n",
       "      <th>2</th>\n",
       "      <td>Billie Eilish</td>\n",
       "      <td>when the party's over</td>\n",
       "      <td>90</td>\n",
       "      <td>0.367</td>\n",
       "      <td>0.111</td>\n",
       "      <td>4</td>\n",
       "      <td>-14.084</td>\n",
       "      <td>1</td>\n",
       "      <td>0.0972</td>\n",
       "      <td>0.978</td>\n",
       "      <td>0.00004</td>\n",
       "      <td>0.0897</td>\n",
       "      <td>0.198</td>\n",
       "      <td>82.642</td>\n",
       "      <td>196077</td>\n",
       "    </tr>\n",
       "    <tr>\n",
       "      <th>3</th>\n",
       "      <td>Billie Eilish</td>\n",
       "      <td>bury a friend</td>\n",
       "      <td>87</td>\n",
       "      <td>0.905</td>\n",
       "      <td>0.389</td>\n",
       "      <td>8</td>\n",
       "      <td>-14.505</td>\n",
       "      <td>1</td>\n",
       "      <td>0.3320</td>\n",
       "      <td>0.740</td>\n",
       "      <td>0.16200</td>\n",
       "      <td>0.1060</td>\n",
       "      <td>0.196</td>\n",
       "      <td>120.046</td>\n",
       "      <td>193143</td>\n",
       "    </tr>\n",
       "    <tr>\n",
       "      <th>4</th>\n",
       "      <td>Billie Eilish</td>\n",
       "      <td>all the good girls go to hell</td>\n",
       "      <td>86</td>\n",
       "      <td>0.726</td>\n",
       "      <td>0.444</td>\n",
       "      <td>8</td>\n",
       "      <td>-8.922</td>\n",
       "      <td>0</td>\n",
       "      <td>0.3720</td>\n",
       "      <td>0.283</td>\n",
       "      <td>0.14300</td>\n",
       "      <td>0.1770</td>\n",
       "      <td>0.569</td>\n",
       "      <td>185.044</td>\n",
       "      <td>168840</td>\n",
       "    </tr>\n",
       "  </tbody>\n",
       "</table>\n",
       "</div>"
      ],
      "text/plain": [
       "     artist_name                      song_name  popularity  danceability  \\\n",
       "0  Billie Eilish                        bad guy          96         0.701   \n",
       "1  Billie Eilish           lovely (with Khalid)          90         0.351   \n",
       "2  Billie Eilish          when the party's over          90         0.367   \n",
       "3  Billie Eilish                  bury a friend          87         0.905   \n",
       "4  Billie Eilish  all the good girls go to hell          86         0.726   \n",
       "\n",
       "   energy  key  loudness  mode  speechiness  acousticness  instrumentalness  \\\n",
       "0   0.425    7   -10.965     1       0.3750         0.328           0.13000   \n",
       "1   0.296    4   -10.109     0       0.0333         0.934           0.00000   \n",
       "2   0.111    4   -14.084     1       0.0972         0.978           0.00004   \n",
       "3   0.389    8   -14.505     1       0.3320         0.740           0.16200   \n",
       "4   0.444    8    -8.922     0       0.3720         0.283           0.14300   \n",
       "\n",
       "   liveness  valence    tempo  duration_ms  \n",
       "0    0.1000    0.562  135.128       194088  \n",
       "1    0.0950    0.120  115.284       200186  \n",
       "2    0.0897    0.198   82.642       196077  \n",
       "3    0.1060    0.196  120.046       193143  \n",
       "4    0.1770    0.569  185.044       168840  "
      ]
     },
     "execution_count": 13,
     "metadata": {},
     "output_type": "execute_result"
    }
   ],
   "source": [
    "df.head()"
   ]
  },
  {
   "cell_type": "code",
   "execution_count": 14,
   "metadata": {
    "scrolled": true
   },
   "outputs": [
    {
     "name": "stdout",
     "output_type": "stream",
     "text": [
      "(10, 15)\n"
     ]
    }
   ],
   "source": [
    "print(df.shape)"
   ]
  },
  {
   "cell_type": "code",
   "execution_count": 15,
   "metadata": {},
   "outputs": [
    {
     "name": "stdout",
     "output_type": "stream",
     "text": [
      "\u001b[34md3plus-workshop\u001b[m\u001b[m/                    get_audio_features-Copy1.ipynb\r\n",
      "d3plus.v2.0.0-alpha.22.full.min.js  get_audio_features.ipynb\r\n",
      "\u001b[34mdata\u001b[m\u001b[m/                               index.html\r\n"
     ]
    }
   ],
   "source": [
    "ls"
   ]
  },
  {
   "cell_type": "code",
   "execution_count": 16,
   "metadata": {},
   "outputs": [
    {
     "name": "stdout",
     "output_type": "stream",
     "text": [
      "mkdir: data: File exists\r\n"
     ]
    }
   ],
   "source": [
    "mkdir data"
   ]
  },
  {
   "cell_type": "code",
   "execution_count": 17,
   "metadata": {},
   "outputs": [],
   "source": [
    "df.to_csv('data/Billie_Eilish.csv', index=False)"
   ]
  },
  {
   "cell_type": "code",
   "execution_count": 27,
   "metadata": {},
   "outputs": [],
   "source": [
    "path = 'data/Billie_Eilish.json'\n",
    "df.to_json(path_or_buf=path, orient='records', lines=True)"
   ]
  },
  {
   "cell_type": "code",
   "execution_count": 34,
   "metadata": {},
   "outputs": [],
   "source": [
    "df_dict = df.to_dict(orient='records')"
   ]
  },
  {
   "cell_type": "code",
   "execution_count": null,
   "metadata": {},
   "outputs": [],
   "source": []
  },
  {
   "cell_type": "code",
   "execution_count": 37,
   "metadata": {},
   "outputs": [],
   "source": [
    "with open('data/Billie_Eilish.json', 'w') as f:\n",
    "    json.dump(df_dict, f, indent=4)"
   ]
  },
  {
   "cell_type": "code",
   "execution_count": 30,
   "metadata": {},
   "outputs": [],
   "source": [
    "path = 'data/Billie_Eilish.json'\n",
    "df.to_json(path_or_buf=path, orient='records')"
   ]
  },
  {
   "cell_type": "code",
   "execution_count": 31,
   "metadata": {},
   "outputs": [
    {
     "name": "stdout",
     "output_type": "stream",
     "text": [
      "Billie_Eilish.csv   Billie_Eilish.json\r\n"
     ]
    }
   ],
   "source": [
    "ls data"
   ]
  },
  {
   "cell_type": "code",
   "execution_count": 32,
   "metadata": {},
   "outputs": [],
   "source": [
    "df2 = pd.read_json('data/Billie_Eilish.json')"
   ]
  },
  {
   "cell_type": "code",
   "execution_count": 33,
   "metadata": {},
   "outputs": [
    {
     "data": {
      "text/html": [
       "<div>\n",
       "<style scoped>\n",
       "    .dataframe tbody tr th:only-of-type {\n",
       "        vertical-align: middle;\n",
       "    }\n",
       "\n",
       "    .dataframe tbody tr th {\n",
       "        vertical-align: top;\n",
       "    }\n",
       "\n",
       "    .dataframe thead th {\n",
       "        text-align: right;\n",
       "    }\n",
       "</style>\n",
       "<table border=\"1\" class=\"dataframe\">\n",
       "  <thead>\n",
       "    <tr style=\"text-align: right;\">\n",
       "      <th></th>\n",
       "      <th>artist_name</th>\n",
       "      <th>song_name</th>\n",
       "      <th>popularity</th>\n",
       "      <th>danceability</th>\n",
       "      <th>energy</th>\n",
       "      <th>key</th>\n",
       "      <th>loudness</th>\n",
       "      <th>mode</th>\n",
       "      <th>speechiness</th>\n",
       "      <th>acousticness</th>\n",
       "      <th>instrumentalness</th>\n",
       "      <th>liveness</th>\n",
       "      <th>valence</th>\n",
       "      <th>tempo</th>\n",
       "      <th>duration_ms</th>\n",
       "    </tr>\n",
       "  </thead>\n",
       "  <tbody>\n",
       "    <tr>\n",
       "      <th>0</th>\n",
       "      <td>Billie Eilish</td>\n",
       "      <td>bad guy</td>\n",
       "      <td>96</td>\n",
       "      <td>0.701</td>\n",
       "      <td>0.425</td>\n",
       "      <td>7</td>\n",
       "      <td>-10.965</td>\n",
       "      <td>1</td>\n",
       "      <td>0.3750</td>\n",
       "      <td>0.328</td>\n",
       "      <td>0.13000</td>\n",
       "      <td>0.1000</td>\n",
       "      <td>0.562</td>\n",
       "      <td>135.128</td>\n",
       "      <td>194088</td>\n",
       "    </tr>\n",
       "    <tr>\n",
       "      <th>1</th>\n",
       "      <td>Billie Eilish</td>\n",
       "      <td>lovely (with Khalid)</td>\n",
       "      <td>90</td>\n",
       "      <td>0.351</td>\n",
       "      <td>0.296</td>\n",
       "      <td>4</td>\n",
       "      <td>-10.109</td>\n",
       "      <td>0</td>\n",
       "      <td>0.0333</td>\n",
       "      <td>0.934</td>\n",
       "      <td>0.00000</td>\n",
       "      <td>0.0950</td>\n",
       "      <td>0.120</td>\n",
       "      <td>115.284</td>\n",
       "      <td>200186</td>\n",
       "    </tr>\n",
       "    <tr>\n",
       "      <th>2</th>\n",
       "      <td>Billie Eilish</td>\n",
       "      <td>when the party's over</td>\n",
       "      <td>90</td>\n",
       "      <td>0.367</td>\n",
       "      <td>0.111</td>\n",
       "      <td>4</td>\n",
       "      <td>-14.084</td>\n",
       "      <td>1</td>\n",
       "      <td>0.0972</td>\n",
       "      <td>0.978</td>\n",
       "      <td>0.00004</td>\n",
       "      <td>0.0897</td>\n",
       "      <td>0.198</td>\n",
       "      <td>82.642</td>\n",
       "      <td>196077</td>\n",
       "    </tr>\n",
       "    <tr>\n",
       "      <th>3</th>\n",
       "      <td>Billie Eilish</td>\n",
       "      <td>bury a friend</td>\n",
       "      <td>87</td>\n",
       "      <td>0.905</td>\n",
       "      <td>0.389</td>\n",
       "      <td>8</td>\n",
       "      <td>-14.505</td>\n",
       "      <td>1</td>\n",
       "      <td>0.3320</td>\n",
       "      <td>0.740</td>\n",
       "      <td>0.16200</td>\n",
       "      <td>0.1060</td>\n",
       "      <td>0.196</td>\n",
       "      <td>120.046</td>\n",
       "      <td>193143</td>\n",
       "    </tr>\n",
       "    <tr>\n",
       "      <th>4</th>\n",
       "      <td>Billie Eilish</td>\n",
       "      <td>all the good girls go to hell</td>\n",
       "      <td>86</td>\n",
       "      <td>0.726</td>\n",
       "      <td>0.444</td>\n",
       "      <td>8</td>\n",
       "      <td>-8.922</td>\n",
       "      <td>0</td>\n",
       "      <td>0.3720</td>\n",
       "      <td>0.283</td>\n",
       "      <td>0.14300</td>\n",
       "      <td>0.1770</td>\n",
       "      <td>0.569</td>\n",
       "      <td>185.044</td>\n",
       "      <td>168840</td>\n",
       "    </tr>\n",
       "  </tbody>\n",
       "</table>\n",
       "</div>"
      ],
      "text/plain": [
       "     artist_name                      song_name  popularity  danceability  \\\n",
       "0  Billie Eilish                        bad guy          96         0.701   \n",
       "1  Billie Eilish           lovely (with Khalid)          90         0.351   \n",
       "2  Billie Eilish          when the party's over          90         0.367   \n",
       "3  Billie Eilish                  bury a friend          87         0.905   \n",
       "4  Billie Eilish  all the good girls go to hell          86         0.726   \n",
       "\n",
       "   energy  key  loudness  mode  speechiness  acousticness  instrumentalness  \\\n",
       "0   0.425    7   -10.965     1       0.3750         0.328           0.13000   \n",
       "1   0.296    4   -10.109     0       0.0333         0.934           0.00000   \n",
       "2   0.111    4   -14.084     1       0.0972         0.978           0.00004   \n",
       "3   0.389    8   -14.505     1       0.3320         0.740           0.16200   \n",
       "4   0.444    8    -8.922     0       0.3720         0.283           0.14300   \n",
       "\n",
       "   liveness  valence    tempo  duration_ms  \n",
       "0    0.1000    0.562  135.128       194088  \n",
       "1    0.0950    0.120  115.284       200186  \n",
       "2    0.0897    0.198   82.642       196077  \n",
       "3    0.1060    0.196  120.046       193143  \n",
       "4    0.1770    0.569  185.044       168840  "
      ]
     },
     "execution_count": 33,
     "metadata": {},
     "output_type": "execute_result"
    }
   ],
   "source": [
    "df2.head()"
   ]
  },
  {
   "cell_type": "code",
   "execution_count": 22,
   "metadata": {},
   "outputs": [
    {
     "ename": "NameError",
     "evalue": "name 'df_2' is not defined",
     "output_type": "error",
     "traceback": [
      "\u001b[0;31m---------------------------------------------------------------------------\u001b[0m",
      "\u001b[0;31mNameError\u001b[0m                                 Traceback (most recent call last)",
      "\u001b[0;32m<ipython-input-22-c1afe4c5c852>\u001b[0m in \u001b[0;36m<module>\u001b[0;34m\u001b[0m\n\u001b[0;32m----> 1\u001b[0;31m \u001b[0mdf_2\u001b[0m\u001b[0;34m.\u001b[0m\u001b[0mhead\u001b[0m\u001b[0;34m(\u001b[0m\u001b[0;34m)\u001b[0m\u001b[0;34m\u001b[0m\u001b[0;34m\u001b[0m\u001b[0m\n\u001b[0m",
      "\u001b[0;31mNameError\u001b[0m: name 'df_2' is not defined"
     ]
    }
   ],
   "source": [
    "df_2.head()"
   ]
  },
  {
   "cell_type": "code",
   "execution_count": null,
   "metadata": {},
   "outputs": [],
   "source": [
    " "
   ]
  }
 ],
 "metadata": {
  "kernelspec": {
   "display_name": "Python 3",
   "language": "python",
   "name": "python3"
  },
  "language_info": {
   "codemirror_mode": {
    "name": "ipython",
    "version": 3
   },
   "file_extension": ".py",
   "mimetype": "text/x-python",
   "name": "python",
   "nbconvert_exporter": "python",
   "pygments_lexer": "ipython3",
   "version": "3.7.4"
  }
 },
 "nbformat": 4,
 "nbformat_minor": 2
}
