{
 "cells": [
  {
   "cell_type": "code",
   "execution_count": 16,
   "metadata": {},
   "outputs": [
    {
     "name": "stdout",
     "output_type": "stream",
     "text": [
      "dict_keys(['album', 'artists', 'disc_number', 'duration_ms', 'explicit', 'external_ids', 'external_urls', 'href', 'id', 'is_local', 'is_playable', 'name', 'popularity', 'preview_url', 'track_number', 'type', 'uri'])\n",
      "2Fxmhks0bxGSBdJ92vM42m\n",
      "dict_keys(['album', 'artists', 'disc_number', 'duration_ms', 'explicit', 'external_ids', 'external_urls', 'href', 'id', 'is_local', 'is_playable', 'name', 'popularity', 'preview_url', 'track_number', 'type', 'uri'])\n"
     ]
    }
   ],
   "source": [
    "import spotipy\n",
    "from spotipy.oauth2 import SpotifyClientCredentials\n",
    "import sys\n",
    "\n",
    "lz_uri = 'spotify:playlist:37i9dQZF1DX6cg4h2PoN9y'\n",
    "lz_uri = 'spotify:artist:6qqNVTkY8uBg9cP3Jd7DAH'\n",
    "\n",
    "client_id = '76f24fab274040aba69de0c3941570cd'\n",
    "client_secret = '1d4f809536e04c3eab59efad88cdb070'\n",
    "client_credentials_manager = spotipy.oauth2.SpotifyClientCredentials(client_id, client_secret)\n",
    "\n",
    "\n",
    "sp = spotipy.Spotify(client_credentials_manager=client_credentials_manager)\n",
    "\n",
    "results = sp.artist_top_tracks(lz_uri)\n",
    "\n",
    "print(results['tracks'][0].keys())\n",
    "\n",
    "print(results['tracks'][0]['id'])\n",
    "\n",
    "print(results['tracks'][1].keys())\n",
    "# for track in results['tracks'][:10]:\n",
    "#     print('track    : ' + track['name'])\n",
    "#     print('audio    : ' + track['preview_url'])\n",
    "#     print('cover art: ' + track['album']['images'][0]['url'])\n",
    "#     print()"
   ]
  },
  {
   "cell_type": "code",
   "execution_count": 17,
   "metadata": {},
   "outputs": [
    {
     "data": {
      "text/plain": [
       "[{'danceability': 0.701,\n",
       "  'energy': 0.425,\n",
       "  'key': 7,\n",
       "  'loudness': -10.965,\n",
       "  'mode': 1,\n",
       "  'speechiness': 0.375,\n",
       "  'acousticness': 0.328,\n",
       "  'instrumentalness': 0.13,\n",
       "  'liveness': 0.1,\n",
       "  'valence': 0.562,\n",
       "  'tempo': 135.128,\n",
       "  'type': 'audio_features',\n",
       "  'id': '2Fxmhks0bxGSBdJ92vM42m',\n",
       "  'uri': 'spotify:track:2Fxmhks0bxGSBdJ92vM42m',\n",
       "  'track_href': 'https://api.spotify.com/v1/tracks/2Fxmhks0bxGSBdJ92vM42m',\n",
       "  'analysis_url': 'https://api.spotify.com/v1/audio-analysis/2Fxmhks0bxGSBdJ92vM42m',\n",
       "  'duration_ms': 194088,\n",
       "  'time_signature': 4}]"
      ]
     },
     "execution_count": 17,
     "metadata": {},
     "output_type": "execute_result"
    }
   ],
   "source": [
    "sp.audio_features('2Fxmhks0bxGSBdJ92vM42m')"
   ]
  },
  {
   "cell_type": "code",
   "execution_count": null,
   "metadata": {},
   "outputs": [],
   "source": []
  }
 ],
 "metadata": {
  "kernelspec": {
   "display_name": "Python 3",
   "language": "python",
   "name": "python3"
  },
  "language_info": {
   "codemirror_mode": {
    "name": "ipython",
    "version": 3
   },
   "file_extension": ".py",
   "mimetype": "text/x-python",
   "name": "python",
   "nbconvert_exporter": "python",
   "pygments_lexer": "ipython3",
   "version": "3.7.4"
  }
 },
 "nbformat": 4,
 "nbformat_minor": 2
}
